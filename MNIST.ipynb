{
  "nbformat": 4,
  "nbformat_minor": 0,
  "metadata": {
    "colab": {
      "provenance": []
    },
    "kernelspec": {
      "name": "python3",
      "display_name": "Python 3"
    },
    "language_info": {
      "name": "python"
    }
  },
  "cells": [
    {
      "cell_type": "code",
      "execution_count": 139,
      "metadata": {
        "id": "QWdRpV4fc_R6"
      },
      "outputs": [],
      "source": [
        "import numpy as np\n",
        "from tensorflow.keras.models import Sequential\n",
        "from tensorflow.keras.layers import Dense, Flatten, Dropout,BatchNormalization\n",
        "from tensorflow.keras.utils import to_categorical\n",
        "import matplotlib.pyplot as plt\n",
        "from tensorflow.keras.initializers import RandomNormal\n",
        "from tensorflow.keras.losses import SparseCategoricalCrossentropy,CategoricalCrossentropy\n",
        "from tensorflow.keras.metrics import SparseCategoricalAccuracy,CategoricalAccuracy\n",
        "from tensorflow.keras.optimizers import SGD\n"
      ]
    },
    {
      "cell_type": "code",
      "source": [
        "!pip install mnist\n",
        "import mnist"
      ],
      "metadata": {
        "colab": {
          "base_uri": "https://localhost:8080/"
        },
        "id": "14M7T9Spdset",
        "outputId": "54fb0679-118f-4b18-d4f9-d7e26c237d3b"
      },
      "execution_count": 140,
      "outputs": [
        {
          "output_type": "stream",
          "name": "stdout",
          "text": [
            "Requirement already satisfied: mnist in /usr/local/lib/python3.10/dist-packages (0.2.2)\n",
            "Requirement already satisfied: numpy in /usr/local/lib/python3.10/dist-packages (from mnist) (1.25.2)\n"
          ]
        }
      ]
    },
    {
      "cell_type": "code",
      "source": [
        "train_images = mnist.train_images()\n",
        "train_labels = mnist.train_labels()\n",
        "test_images = mnist.test_images()\n",
        "test_labels = mnist.test_labels()"
      ],
      "metadata": {
        "id": "--DjxVNvd3CJ"
      },
      "execution_count": 141,
      "outputs": []
    },
    {
      "cell_type": "code",
      "source": [
        "# Normalize the images.\n",
        "train_images = (train_images / 255) - 0.5\n",
        "test_images = (test_images / 255) - 0.5"
      ],
      "metadata": {
        "id": "QFs6ugTfd6UR"
      },
      "execution_count": 142,
      "outputs": []
    },
    {
      "cell_type": "code",
      "source": [
        "train_images.shape"
      ],
      "metadata": {
        "colab": {
          "base_uri": "https://localhost:8080/"
        },
        "id": "yR0Emj8Kd-im",
        "outputId": "55900a83-59b1-4fec-d46a-c27bb636becf"
      },
      "execution_count": 143,
      "outputs": [
        {
          "output_type": "execute_result",
          "data": {
            "text/plain": [
              "(60000, 28, 28)"
            ]
          },
          "metadata": {},
          "execution_count": 143
        }
      ]
    },
    {
      "cell_type": "code",
      "source": [
        "# Reshape the images.\n",
        "train_images = np.expand_dims(train_images, axis=3)\n",
        "test_images = np.expand_dims(test_images, axis=3)"
      ],
      "metadata": {
        "id": "7WP94FHZeCSr"
      },
      "execution_count": 144,
      "outputs": []
    },
    {
      "cell_type": "code",
      "source": [
        "train_images.shape"
      ],
      "metadata": {
        "colab": {
          "base_uri": "https://localhost:8080/"
        },
        "id": "3Bhq-R7LeFJV",
        "outputId": "06df3800-028a-40b2-8989-4307db53f663"
      },
      "execution_count": 145,
      "outputs": [
        {
          "output_type": "execute_result",
          "data": {
            "text/plain": [
              "(60000, 28, 28, 1)"
            ]
          },
          "metadata": {},
          "execution_count": 145
        }
      ]
    },
    {
      "cell_type": "code",
      "source": [
        "plt.imshow(train_images[7][:,:,0],cmap='gray')#,cmap='grayscale' google greyscale in matplot\n",
        "plt.show()"
      ],
      "metadata": {
        "colab": {
          "base_uri": "https://localhost:8080/",
          "height": 430
        },
        "id": "A1AmkUApeLT0",
        "outputId": "4428a203-c1df-4c2b-9efd-329e208d25ca"
      },
      "execution_count": 146,
      "outputs": [
        {
          "output_type": "display_data",
          "data": {
            "text/plain": [
              "<Figure size 640x480 with 1 Axes>"
            ],
            "image/png": "[encoded data removed]"
          },
          "metadata": {}
        }
      ]
    },
    {
      "cell_type": "code",
      "source": [
        "train_labels[7]"
      ],
      "metadata": {
        "colab": {
          "base_uri": "https://localhost:8080/"
        },
        "id": "kEIN-OH0eNIt",
        "outputId": "62e307c9-125b-47e1-ddbc-8fcf295469b7"
      },
      "execution_count": 147,
      "outputs": [
        {
          "output_type": "execute_result",
          "data": {
            "text/plain": [
              "3"
            ]
          },
          "metadata": {},
          "execution_count": 147
        }
      ]
    },
    {
      "cell_type": "code",
      "source": [
        "learning_rate = 0.001\n",
        "n_epochs = 20\n",
        "\n",
        "initializer = RandomNormal(mean=0., stddev=1.)"
      ],
      "metadata": {
        "id": "mv5qMKBKeRPv"
      },
      "execution_count": 148,
      "outputs": []
    },
    {
      "cell_type": "code",
      "source": [
        "\n",
        "from tensorflow.keras.layers import Conv2D, MaxPooling2D\n",
        "model = Sequential([\n",
        "  Conv2D(32, (3, 3), activation='relu', input_shape=(28, 28, 1)),  # Add a convolutional layer\n",
        "  MaxPooling2D((2, 2)),\n",
        "  Flatten(),\n",
        "  Dense(128, activation='relu', kernel_initializer=initializer),\n",
        "  BatchNormalization(),\n",
        "  Dropout(0.2),\n",
        "  Dense(64, activation='relu', kernel_initializer=initializer),\n",
        "  BatchNormalization(),\n",
        "   Dropout(0.2),\n",
        "  Dense(32, activation='relu', kernel_initializer=initializer),\n",
        "  BatchNormalization(),\n",
        "   Dropout(0.2),\n",
        "  Dense(10, activation='softmax',kernel_initializer=initializer)\n",
        "])\n",
        "\n",
        "model.summary()"
      ],
      "metadata": {
        "colab": {
          "base_uri": "https://localhost:8080/"
        },
        "id": "0T2ceBnUee1H",
        "outputId": "d2430044-4b69-4eff-a27e-9848e4ab4537"
      },
      "execution_count": 173,
      "outputs": [
        {
          "output_type": "stream",
          "name": "stderr",
          "text": [
            "/usr/local/lib/python3.10/dist-packages/keras/src/initializers/initializers.py:120: UserWarning: The initializer RandomNormal is unseeded and being called multiple times, which will return identical values each time (even if the initializer is unseeded). Please update your code to provide a seed to the initializer, or avoid using the same initializer instance more than once.\n",
            "  warnings.warn(\n"
          ]
        },
        {
          "output_type": "stream",
          "name": "stdout",
          "text": [
            "Model: \"sequential_25\"\n",
            "_________________________________________________________________\n",
            " Layer (type)                Output Shape              Param #   \n",
            "=================================================================\n",
            " conv2d (Conv2D)             (None, 26, 26, 32)        320       \n",
            "                                                                 \n",
            " max_pooling2d (MaxPooling2  (None, 13, 13, 32)        0         \n",
            " D)                                                              \n",
            "                                                                 \n",
            " flatten_26 (Flatten)        (None, 5408)              0         \n",
            "                                                                 \n",
            " dense_101 (Dense)           (None, 128)               692352    \n",
            "                                                                 \n",
            " batch_normalization_32 (Ba  (None, 128)               512       \n",
            " tchNormalization)                                               \n",
            "                                                                 \n",
            " dropout_48 (Dropout)        (None, 128)               0         \n",
            "                                                                 \n",
            " dense_102 (Dense)           (None, 64)                8256      \n",
            "                                                                 \n",
            " batch_normalization_33 (Ba  (None, 64)                256       \n",
            " tchNormalization)                                               \n",
            "                                                                 \n",
            " dropout_49 (Dropout)        (None, 64)                0         \n",
            "                                                                 \n",
            " dense_103 (Dense)           (None, 32)                2080      \n",
            "                                                                 \n",
            " batch_normalization_34 (Ba  (None, 32)                128       \n",
            " tchNormalization)                                               \n",
            "                                                                 \n",
            " dropout_50 (Dropout)        (None, 32)                0         \n",
            "                                                                 \n",
            " dense_104 (Dense)           (None, 10)                330       \n",
            "                                                                 \n",
            "=================================================================\n",
            "Total params: 704234 (2.69 MB)\n",
            "Trainable params: 703786 (2.68 MB)\n",
            "Non-trainable params: 448 (1.75 KB)\n",
            "_________________________________________________________________\n"
          ]
        }
      ]
    },
    {
      "cell_type": "code",
      "source": [
        "from tensorflow.keras.callbacks import LearningRateScheduler, EarlyStopping\n",
        "from tensorflow.keras.optimizers import Adam\n",
        "\n",
        "model.compile(\n",
        "    optimizer=Adam(learning_rate=learning_rate),\n",
        "    loss= CategoricalCrossentropy(),#\n",
        "    metrics=[CategoricalAccuracy()],\n",
        ")\n",
        "early_stopping = EarlyStopping(monitor='val_loss', patience=3, restore_best_weights=True)\n",
        "history = model.fit(\n",
        "    train_images,\n",
        "    to_categorical(train_labels),\n",
        "    epochs=n_epochs,\n",
        "    validation_data=(test_images, to_categorical(test_labels)),\n",
        "    callbacks=[early_stopping]\n",
        ")"
      ],
      "metadata": {
        "colab": {
          "base_uri": "https://localhost:8080/"
        },
        "id": "fDsQI6Bxeo3U",
        "outputId": "66986c8b-ea96-4a97-b57f-507f80b6af70"
      },
      "execution_count": 174,
      "outputs": [
        {
          "output_type": "stream",
          "name": "stdout",
          "text": [
            "Epoch 1/20\n",
            "1875/1875 [==============================] - 47s 24ms/step - loss: 1.7824 - categorical_accuracy: 0.6329 - val_loss: 0.3055 - val_categorical_accuracy: 0.9087\n",
            "Epoch 2/20\n",
            "1875/1875 [==============================] - 47s 25ms/step - loss: 0.5255 - categorical_accuracy: 0.8414 - val_loss: 0.1981 - val_categorical_accuracy: 0.9416\n",
            "Epoch 3/20\n",
            "1875/1875 [==============================] - 48s 25ms/step - loss: 0.3471 - categorical_accuracy: 0.8965 - val_loss: 0.1359 - val_categorical_accuracy: 0.9600\n",
            "Epoch 4/20\n",
            "1875/1875 [==============================] - 43s 23ms/step - loss: 0.2481 - categorical_accuracy: 0.9261 - val_loss: 0.1038 - val_categorical_accuracy: 0.9666\n",
            "Epoch 5/20\n",
            "1875/1875 [==============================] - 45s 24ms/step - loss: 0.1992 - categorical_accuracy: 0.9413 - val_loss: 0.0854 - val_categorical_accuracy: 0.9736\n",
            "Epoch 6/20\n",
            "1875/1875 [==============================] - 45s 24ms/step - loss: 0.1655 - categorical_accuracy: 0.9504 - val_loss: 0.0816 - val_categorical_accuracy: 0.9755\n",
            "Epoch 7/20\n",
            "1875/1875 [==============================] - 46s 24ms/step - loss: 0.1458 - categorical_accuracy: 0.9569 - val_loss: 0.0610 - val_categorical_accuracy: 0.9814\n",
            "Epoch 8/20\n",
            "1875/1875 [==============================] - 44s 24ms/step - loss: 0.1288 - categorical_accuracy: 0.9614 - val_loss: 0.0671 - val_categorical_accuracy: 0.9791\n",
            "Epoch 9/20\n",
            "1875/1875 [==============================] - 47s 25ms/step - loss: 0.1156 - categorical_accuracy: 0.9654 - val_loss: 0.0503 - val_categorical_accuracy: 0.9838\n",
            "Epoch 10/20\n",
            "1875/1875 [==============================] - 43s 23ms/step - loss: 0.1042 - categorical_accuracy: 0.9683 - val_loss: 0.0526 - val_categorical_accuracy: 0.9829\n",
            "Epoch 11/20\n",
            "1875/1875 [==============================] - 45s 24ms/step - loss: 0.0953 - categorical_accuracy: 0.9715 - val_loss: 0.0607 - val_categorical_accuracy: 0.9815\n",
            "Epoch 12/20\n",
            "1875/1875 [==============================] - 43s 23ms/step - loss: 0.0900 - categorical_accuracy: 0.9731 - val_loss: 0.0475 - val_categorical_accuracy: 0.9858\n",
            "Epoch 13/20\n",
            "1875/1875 [==============================] - 46s 25ms/step - loss: 0.0828 - categorical_accuracy: 0.9749 - val_loss: 0.0453 - val_categorical_accuracy: 0.9863\n",
            "Epoch 14/20\n",
            "1875/1875 [==============================] - 45s 24ms/step - loss: 0.0818 - categorical_accuracy: 0.9758 - val_loss: 0.0439 - val_categorical_accuracy: 0.9852\n",
            "Epoch 15/20\n",
            "1875/1875 [==============================] - 46s 25ms/step - loss: 0.0702 - categorical_accuracy: 0.9787 - val_loss: 0.0441 - val_categorical_accuracy: 0.9868\n",
            "Epoch 16/20\n",
            "1875/1875 [==============================] - 45s 24ms/step - loss: 0.0706 - categorical_accuracy: 0.9783 - val_loss: 0.0436 - val_categorical_accuracy: 0.9869\n",
            "Epoch 17/20\n",
            "1875/1875 [==============================] - 46s 25ms/step - loss: 0.0649 - categorical_accuracy: 0.9810 - val_loss: 0.0470 - val_categorical_accuracy: 0.9851\n",
            "Epoch 18/20\n",
            "1875/1875 [==============================] - 44s 24ms/step - loss: 0.0597 - categorical_accuracy: 0.9818 - val_loss: 0.0386 - val_categorical_accuracy: 0.9879\n",
            "Epoch 19/20\n",
            "1875/1875 [==============================] - 47s 25ms/step - loss: 0.0587 - categorical_accuracy: 0.9816 - val_loss: 0.0433 - val_categorical_accuracy: 0.9873\n",
            "Epoch 20/20\n",
            "1875/1875 [==============================] - 43s 23ms/step - loss: 0.0547 - categorical_accuracy: 0.9831 - val_loss: 0.0416 - val_categorical_accuracy: 0.9867\n"
          ]
        }
      ]
    },
    {
      "cell_type": "code",
      "source": [
        "plt.plot(history.history['categorical_accuracy'])\n",
        "plt.plot(history.history['val_categorical_accuracy'])\n",
        "plt.title('model accuracy')\n",
        "plt.ylabel('accuracy')\n",
        "plt.xlabel('epoch')\n",
        "plt.legend(['train', 'val'], loc='upper left')\n",
        "plt.show()\n",
        "\n",
        "\n",
        "plt.plot(history.history['loss'][1:])\n",
        "plt.plot(history.history['val_loss'])\n",
        "plt.title('model loss')\n",
        "plt.ylabel('loss')\n",
        "plt.xlabel('epoch')\n",
        "plt.legend(['train', 'val'], loc='upper left')\n",
        "plt.show()"
      ],
      "metadata": {
        "colab": {
          "base_uri": "https://localhost:8080/",
          "height": 927
        },
        "id": "_Q4cjXkxevGN",
        "outputId": "80e18bcf-cf4b-4d6e-cf88-de9f957ca1fd"
      },
      "execution_count": 175,
      "outputs": [
        {
          "output_type": "display_data",
          "data": {
            "text/plain": [
              "<Figure size 640x480 with 1 Axes>"
            ],
            "image/png": "[encoded data removed]"
          },
          "metadata": {}
        },
        {
          "output_type": "display_data",
          "data": {
            "text/plain": [
              "<Figure size 640x480 with 1 Axes>"
            ],
            "image/png": "[encoded data removed]"
          },
          "metadata": {}
        }
      ]
    },
    {
      "cell_type": "code",
      "source": [
        "predictions = model.predict(test_images[:5])\n",
        "print(predictions.shape)\n",
        "print(predictions)\n",
        "\n",
        "\n",
        "# Print our model's predictions.\n",
        "print(\"Predictions\")\n",
        "print(np.argmax(predictions, axis=1)) # [7, 2, 1, 0, 4]\n",
        "\n",
        "print(\"Data\")\n",
        "# Check our predictions\n",
        "print(test_labels[:5]) # [7, 2, 1, 0, 4]\n"
      ],
      "metadata": {
        "colab": {
          "base_uri": "https://localhost:8080/"
        },
        "id": "g6wNiQVNey0E",
        "outputId": "f23643d0-912a-4670-a075-5f75b40e3b67"
      },
      "execution_count": 176,
      "outputs": [
        {
          "output_type": "stream",
          "name": "stdout",
          "text": [
            "1/1 [==============================] - 0s 139ms/step\n",
            "(5, 10)\n",
            "[[8.1138325e-07 1.3732221e-06 2.1751111e-06 1.0620391e-07 6.1110018e-07\n",
            "  2.2351619e-08 1.6614688e-08 9.9999273e-01 1.2256740e-07 2.0766779e-06]\n",
            " [1.0951991e-06 9.6235249e-07 9.9999678e-01 4.8900195e-09 2.6927512e-07\n",
            "  1.1070778e-10 1.0004554e-06 2.4423947e-08 1.8259298e-08 6.4294516e-09]\n",
            " [1.9751182e-07 9.9998116e-01 2.1478712e-07 9.8389199e-09 1.3964130e-05\n",
            "  1.2185271e-07 3.3525049e-07 1.1599330e-06 2.7054571e-06 1.5266404e-07]\n",
            " [9.9999619e-01 1.7032614e-08 2.7591679e-07 3.7768361e-10 1.7403612e-07\n",
            "  1.0475711e-08 3.2834012e-06 7.7270649e-08 3.9670338e-09 2.1874229e-08]\n",
            " [1.0734441e-07 5.9104104e-07 1.9211750e-07 3.6931333e-08 9.9996638e-01\n",
            "  1.3674091e-07 4.6947861e-07 1.0122365e-07 7.2111123e-07 3.1282878e-05]]\n",
            "Predictions\n",
            "[7 2 1 0 4]\n",
            "Data\n",
            "[7 2 1 0 4]\n"
          ]
        }
      ]
    },
    {
      "cell_type": "code",
      "source": [],
      "metadata": {
        "id": "SrEZXX8xQ0fm"
      },
      "execution_count": null,
      "outputs": []
    }
  ]
}